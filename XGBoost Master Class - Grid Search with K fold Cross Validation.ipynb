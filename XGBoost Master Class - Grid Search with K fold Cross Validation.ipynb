{
 "cells": [
  {
   "cell_type": "code",
   "execution_count": 36,
   "metadata": {},
   "outputs": [],
   "source": [
    "from numpy import loadtxt \n",
    "import numpy as np\n",
    "import pandas as pd\n",
    "from xgboost import XGBClassifier \n",
    "import pickle \n",
    "from sklearn.model_selection import train_test_split \n",
    "from sklearn.model_selection import StratifiedKFold \n",
    "from sklearn.model_selection import cross_val_score \n",
    "from sklearn.metrics import accuracy_score \n",
    "import warnings"
   ]
  },
  {
   "cell_type": "code",
   "execution_count": 6,
   "metadata": {},
   "outputs": [],
   "source": [
    "dataset = loadtxt('pima.txt', delimiter=\",\")"
   ]
  },
  {
   "cell_type": "code",
   "execution_count": 7,
   "metadata": {},
   "outputs": [],
   "source": [
    "X = dataset[:,0:8] \n",
    "Y = dataset[:,8]"
   ]
  },
  {
   "cell_type": "code",
   "execution_count": 19,
   "metadata": {},
   "outputs": [
    {
     "data": {
      "text/plain": [
       "array([[  6.00000000e+00,   1.48000000e+02,   7.20000000e+01,\n",
       "          3.50000000e+01,   0.00000000e+00,   3.36000000e+01,\n",
       "          6.27000000e-01,   5.00000000e+01],\n",
       "       [  1.00000000e+00,   8.50000000e+01,   6.60000000e+01,\n",
       "          2.90000000e+01,   0.00000000e+00,   2.66000000e+01,\n",
       "          3.51000000e-01,   3.10000000e+01],\n",
       "       [  8.00000000e+00,   1.83000000e+02,   6.40000000e+01,\n",
       "          0.00000000e+00,   0.00000000e+00,   2.33000000e+01,\n",
       "          6.72000000e-01,   3.20000000e+01],\n",
       "       [  1.00000000e+00,   8.90000000e+01,   6.60000000e+01,\n",
       "          2.30000000e+01,   9.40000000e+01,   2.81000000e+01,\n",
       "          1.67000000e-01,   2.10000000e+01],\n",
       "       [  0.00000000e+00,   1.37000000e+02,   4.00000000e+01,\n",
       "          3.50000000e+01,   1.68000000e+02,   4.31000000e+01,\n",
       "          2.28800000e+00,   3.30000000e+01]])"
      ]
     },
     "execution_count": 19,
     "metadata": {},
     "output_type": "execute_result"
    }
   ],
   "source": [
    "X[:5]"
   ]
  },
  {
   "cell_type": "code",
   "execution_count": 20,
   "metadata": {},
   "outputs": [
    {
     "data": {
      "text/plain": [
       "array([ 1.,  0.,  1.,  0.,  1.])"
      ]
     },
     "execution_count": 20,
     "metadata": {},
     "output_type": "execute_result"
    }
   ],
   "source": [
    "Y[:5]"
   ]
  },
  {
   "cell_type": "code",
   "execution_count": 21,
   "metadata": {},
   "outputs": [],
   "source": [
    "seed = 7 \n",
    "test_size = 0.20\n",
    "\n",
    "X_train, X_test, y_train, y_test = train_test_split(X, Y, test_size=test_size, random_state=seed)"
   ]
  },
  {
   "cell_type": "code",
   "execution_count": 10,
   "metadata": {},
   "outputs": [],
   "source": [
    "model = XGBClassifier()  "
   ]
  },
  {
   "cell_type": "code",
   "execution_count": 11,
   "metadata": {},
   "outputs": [],
   "source": [
    "warnings.filterwarnings(\"ignore\", category=DeprecationWarning)"
   ]
  },
  {
   "cell_type": "code",
   "execution_count": 52,
   "metadata": {},
   "outputs": [
    {
     "name": "stdout",
     "output_type": "stream",
     "text": [
      "[0]\tvalidation_0-error:0.214286\n",
      "[1]\tvalidation_0-error:0.214286\n",
      "[2]\tvalidation_0-error:0.253247\n",
      "[3]\tvalidation_0-error:0.227273\n",
      "[4]\tvalidation_0-error:0.220779\n",
      "[5]\tvalidation_0-error:0.220779\n",
      "[6]\tvalidation_0-error:0.220779\n",
      "[7]\tvalidation_0-error:0.227273\n",
      "[8]\tvalidation_0-error:0.233766\n",
      "[9]\tvalidation_0-error:0.233766\n",
      "[10]\tvalidation_0-error:0.233766\n",
      "[11]\tvalidation_0-error:0.24026\n",
      "[12]\tvalidation_0-error:0.24026\n",
      "[13]\tvalidation_0-error:0.233766\n",
      "[14]\tvalidation_0-error:0.227273\n",
      "[15]\tvalidation_0-error:0.233766\n",
      "[16]\tvalidation_0-error:0.233766\n",
      "[17]\tvalidation_0-error:0.227273\n",
      "[18]\tvalidation_0-error:0.227273\n",
      "[19]\tvalidation_0-error:0.220779\n",
      "[20]\tvalidation_0-error:0.227273\n",
      "[21]\tvalidation_0-error:0.233766\n",
      "[22]\tvalidation_0-error:0.227273\n",
      "[23]\tvalidation_0-error:0.220779\n",
      "[24]\tvalidation_0-error:0.233766\n",
      "[25]\tvalidation_0-error:0.214286\n",
      "[26]\tvalidation_0-error:0.214286\n",
      "[27]\tvalidation_0-error:0.214286\n",
      "[28]\tvalidation_0-error:0.207792\n",
      "[29]\tvalidation_0-error:0.207792\n",
      "[30]\tvalidation_0-error:0.220779\n",
      "[31]\tvalidation_0-error:0.207792\n",
      "[32]\tvalidation_0-error:0.207792\n",
      "[33]\tvalidation_0-error:0.220779\n",
      "[34]\tvalidation_0-error:0.214286\n",
      "[35]\tvalidation_0-error:0.207792\n",
      "[36]\tvalidation_0-error:0.207792\n",
      "[37]\tvalidation_0-error:0.214286\n",
      "[38]\tvalidation_0-error:0.214286\n",
      "[39]\tvalidation_0-error:0.214286\n",
      "[40]\tvalidation_0-error:0.214286\n",
      "[41]\tvalidation_0-error:0.207792\n",
      "[42]\tvalidation_0-error:0.207792\n",
      "[43]\tvalidation_0-error:0.220779\n",
      "[44]\tvalidation_0-error:0.214286\n",
      "[45]\tvalidation_0-error:0.201299\n",
      "[46]\tvalidation_0-error:0.194805\n",
      "[47]\tvalidation_0-error:0.201299\n",
      "[48]\tvalidation_0-error:0.194805\n",
      "[49]\tvalidation_0-error:0.188312\n",
      "[50]\tvalidation_0-error:0.181818\n",
      "[51]\tvalidation_0-error:0.188312\n",
      "[52]\tvalidation_0-error:0.181818\n",
      "[53]\tvalidation_0-error:0.181818\n",
      "[54]\tvalidation_0-error:0.188312\n",
      "[55]\tvalidation_0-error:0.188312\n",
      "[56]\tvalidation_0-error:0.188312\n",
      "[57]\tvalidation_0-error:0.181818\n",
      "[58]\tvalidation_0-error:0.188312\n",
      "[59]\tvalidation_0-error:0.188312\n",
      "[60]\tvalidation_0-error:0.181818\n",
      "[61]\tvalidation_0-error:0.188312\n",
      "[62]\tvalidation_0-error:0.188312\n",
      "[63]\tvalidation_0-error:0.188312\n",
      "[64]\tvalidation_0-error:0.194805\n",
      "[65]\tvalidation_0-error:0.194805\n",
      "[66]\tvalidation_0-error:0.188312\n",
      "[67]\tvalidation_0-error:0.188312\n",
      "[68]\tvalidation_0-error:0.194805\n",
      "[69]\tvalidation_0-error:0.194805\n",
      "[70]\tvalidation_0-error:0.194805\n",
      "[71]\tvalidation_0-error:0.188312\n",
      "[72]\tvalidation_0-error:0.188312\n",
      "[73]\tvalidation_0-error:0.181818\n",
      "[74]\tvalidation_0-error:0.175325\n",
      "[75]\tvalidation_0-error:0.181818\n",
      "[76]\tvalidation_0-error:0.181818\n",
      "[77]\tvalidation_0-error:0.181818\n",
      "[78]\tvalidation_0-error:0.181818\n",
      "[79]\tvalidation_0-error:0.188312\n",
      "[80]\tvalidation_0-error:0.188312\n",
      "[81]\tvalidation_0-error:0.194805\n",
      "[82]\tvalidation_0-error:0.181818\n",
      "[83]\tvalidation_0-error:0.181818\n",
      "[84]\tvalidation_0-error:0.188312\n",
      "[85]\tvalidation_0-error:0.194805\n",
      "[86]\tvalidation_0-error:0.188312\n",
      "[87]\tvalidation_0-error:0.194805\n",
      "[88]\tvalidation_0-error:0.188312\n",
      "[89]\tvalidation_0-error:0.188312\n",
      "[90]\tvalidation_0-error:0.188312\n",
      "[91]\tvalidation_0-error:0.188312\n",
      "[92]\tvalidation_0-error:0.181818\n",
      "[93]\tvalidation_0-error:0.188312\n",
      "[94]\tvalidation_0-error:0.181818\n",
      "[95]\tvalidation_0-error:0.194805\n",
      "[96]\tvalidation_0-error:0.181818\n",
      "[97]\tvalidation_0-error:0.188312\n",
      "[98]\tvalidation_0-error:0.188312\n",
      "[99]\tvalidation_0-error:0.188312\n"
     ]
    },
    {
     "data": {
      "text/plain": [
       "XGBClassifier(base_score=0.5, booster='gbtree', colsample_bylevel=1,\n",
       "              colsample_bytree=1, gamma=0, learning_rate=0.1, max_delta_step=0,\n",
       "              max_depth=3, min_child_weight=1, missing=None, n_estimators=100,\n",
       "              n_jobs=1, nthread=None, objective='binary:logistic',\n",
       "              random_state=0, reg_alpha=0, reg_lambda=1, scale_pos_weight=1,\n",
       "              seed=None, silent=True, subsample=1)"
      ]
     },
     "execution_count": 52,
     "metadata": {},
     "output_type": "execute_result"
    }
   ],
   "source": [
    "#Evaluate model errors with test set in each iteration during model training - check how many iterations are needed\n",
    "\n",
    "eval_set = [(X_test, y_test)]\n",
    "model.fit(X_train, y_train, eval_metric=\"error\", eval_set=eval_set, verbose=True)"
   ]
  },
  {
   "cell_type": "code",
   "execution_count": 12,
   "metadata": {
    "scrolled": true
   },
   "outputs": [
    {
     "name": "stderr",
     "output_type": "stream",
     "text": [
      "/Users/chonchon/anaconda3/lib/python3.6/site-packages/sklearn/model_selection/_split.py:296: FutureWarning: Setting a random_state has no effect since shuffle is False. This will raise an error in 0.24. You should leave random_state to its default (None), or set shuffle=True.\n",
      "  FutureWarning\n"
     ]
    },
    {
     "name": "stdout",
     "output_type": "stream",
     "text": [
      "[ 0.76623377  0.81818182  0.77922078  0.64935065  0.74025974  0.79220779\n",
      "  0.80519481  0.84415584  0.68421053  0.81578947]\n"
     ]
    }
   ],
   "source": [
    "# K fold Cross Validation\n",
    "\n",
    "kfold = StratifiedKFold(n_splits=10, random_state=7)\n",
    "results = cross_val_score(model, X, Y, cv=kfold)\n",
    "print(results)"
   ]
  },
  {
   "cell_type": "code",
   "execution_count": null,
   "metadata": {},
   "outputs": [],
   "source": []
  },
  {
   "cell_type": "code",
   "execution_count": null,
   "metadata": {},
   "outputs": [],
   "source": []
  },
  {
   "cell_type": "code",
   "execution_count": 56,
   "metadata": {},
   "outputs": [],
   "source": [
    "from sklearn.metrics import make_scorer\n",
    "from sklearn.model_selection import GridSearchCV\n",
    "\n",
    "n_estimate = list(np.arange(50,400,50)) #n_estimators means no. of trees needed\n",
    "sub_sample = list(np.arange(0.1,1.1,0.1))"
   ]
  },
  {
   "cell_type": "code",
   "execution_count": 57,
   "metadata": {},
   "outputs": [
    {
     "name": "stdout",
     "output_type": "stream",
     "text": [
      "n_estimate: [50, 100, 150, 200, 250, 300, 350]\n",
      "sub_sample: [0.10000000000000001, 0.20000000000000001, 0.30000000000000004, 0.40000000000000002, 0.5, 0.59999999999999998, 0.70000000000000007, 0.80000000000000004, 0.90000000000000002, 1.0]\n"
     ]
    }
   ],
   "source": [
    "print(\"n_estimate:\", n_estimate)\n",
    "print(\"sub_sample:\", sub_sample)"
   ]
  },
  {
   "cell_type": "code",
   "execution_count": 64,
   "metadata": {
    "scrolled": true
   },
   "outputs": [
    {
     "data": {
      "text/plain": [
       "XGBClassifier(base_score=0.5, booster='gbtree', colsample_bylevel=1,\n",
       "              colsample_bytree=1, gamma=0, learning_rate=0.3, max_delta_step=0,\n",
       "              max_depth=3, min_child_weight=1, missing=None, n_estimators=50,\n",
       "              n_jobs=1, nthread=None, objective='binary:logistic',\n",
       "              random_state=0, reg_alpha=0, reg_lambda=1, scale_pos_weight=1,\n",
       "              seed=None, silent=True, subsample=0.90000000000000002)"
      ]
     },
     "execution_count": 64,
     "metadata": {},
     "output_type": "execute_result"
    }
   ],
   "source": [
    "## model hyperparameter tuning with Gridsearch\n",
    "\n",
    "#initialize model\n",
    "clf = XGBClassifier()\n",
    " \n",
    "#Create the parameters list you wish to tune.\n",
    "parameters = {'max_depth':[2,3,4,5],'learning_rate':[0.001,0.01,0.1,0.2,0.3], 'n_estimators':n_estimate, 'subsample': sub_sample}\n",
    "# parameters = {'max_depth':[2,3,4,5,6,7],'learning_rate':[0.001,0.01,0.1,0.2,0.3]}\n",
    "\n",
    "#Make an recall_score scoring object.\n",
    "scorer = make_scorer(recall_score)\n",
    "\n",
    "#create StratifiedKFold\n",
    "kfold = StratifiedKFold(n_splits=10, shuffle=True, random_state=7)\n",
    "\n",
    "#Perform grid search on the classifier using 'scorer' as the scoring method.\n",
    "grid_obj = GridSearchCV(clf, parameters, scoring=scorer, cv=kfold)\n",
    "\n",
    "#Fit the grid search object to the training data and find the optimal parameters.\n",
    "grid_fit = grid_obj.fit(X_train, y_train)\n",
    "\n",
    "#Get the estimator.\n",
    "best_clf = grid_fit.best_estimator_\n",
    "\n",
    "#Fit the new model.\n",
    "best_clf.fit(X_train, y_train)"
   ]
  },
  {
   "cell_type": "code",
   "execution_count": 59,
   "metadata": {},
   "outputs": [
    {
     "data": {
      "text/plain": [
       "array([ 0.51151717,  0.48372093,  0.46478405,  0.45526024,  0.44562569,\n",
       "        0.46434109,  0.45049834,  0.45049834,  0.42668882,  0.42668882])"
      ]
     },
     "execution_count": 59,
     "metadata": {},
     "output_type": "execute_result"
    }
   ],
   "source": [
    "grid_fit.cv_results_['mean_test_score'][:10]"
   ]
  },
  {
   "cell_type": "code",
   "execution_count": 72,
   "metadata": {},
   "outputs": [],
   "source": [
    "df_cv = pd.DataFrame(grid_fit.cv_results_)"
   ]
  },
  {
   "cell_type": "code",
   "execution_count": 38,
   "metadata": {
    "scrolled": true
   },
   "outputs": [
    {
     "data": {
      "text/html": [
       "<div>\n",
       "<style scoped>\n",
       "    .dataframe tbody tr th:only-of-type {\n",
       "        vertical-align: middle;\n",
       "    }\n",
       "\n",
       "    .dataframe tbody tr th {\n",
       "        vertical-align: top;\n",
       "    }\n",
       "\n",
       "    .dataframe thead th {\n",
       "        text-align: right;\n",
       "    }\n",
       "</style>\n",
       "<table border=\"1\" class=\"dataframe\">\n",
       "  <thead>\n",
       "    <tr style=\"text-align: right;\">\n",
       "      <th></th>\n",
       "      <th>mean_fit_time</th>\n",
       "      <th>std_fit_time</th>\n",
       "      <th>mean_score_time</th>\n",
       "      <th>std_score_time</th>\n",
       "      <th>param_learning_rate</th>\n",
       "      <th>param_max_depth</th>\n",
       "      <th>param_n_estimators</th>\n",
       "      <th>params</th>\n",
       "      <th>split0_test_score</th>\n",
       "      <th>split1_test_score</th>\n",
       "      <th>split2_test_score</th>\n",
       "      <th>split3_test_score</th>\n",
       "      <th>split4_test_score</th>\n",
       "      <th>mean_test_score</th>\n",
       "      <th>std_test_score</th>\n",
       "      <th>rank_test_score</th>\n",
       "    </tr>\n",
       "  </thead>\n",
       "  <tbody>\n",
       "    <tr>\n",
       "      <th>0</th>\n",
       "      <td>0.010167</td>\n",
       "      <td>0.000908</td>\n",
       "      <td>0.000987</td>\n",
       "      <td>0.000114</td>\n",
       "      <td>0.05</td>\n",
       "      <td>2</td>\n",
       "      <td>50</td>\n",
       "      <td>{'learning_rate': 0.05, 'max_depth': 2, 'n_est...</td>\n",
       "      <td>0.619048</td>\n",
       "      <td>0.571429</td>\n",
       "      <td>0.404762</td>\n",
       "      <td>0.465116</td>\n",
       "      <td>0.500000</td>\n",
       "      <td>0.512071</td>\n",
       "      <td>0.075938</td>\n",
       "      <td>126</td>\n",
       "    </tr>\n",
       "    <tr>\n",
       "      <th>1</th>\n",
       "      <td>0.014398</td>\n",
       "      <td>0.000807</td>\n",
       "      <td>0.000742</td>\n",
       "      <td>0.000039</td>\n",
       "      <td>0.05</td>\n",
       "      <td>2</td>\n",
       "      <td>100</td>\n",
       "      <td>{'learning_rate': 0.05, 'max_depth': 2, 'n_est...</td>\n",
       "      <td>0.595238</td>\n",
       "      <td>0.547619</td>\n",
       "      <td>0.452381</td>\n",
       "      <td>0.558140</td>\n",
       "      <td>0.571429</td>\n",
       "      <td>0.544961</td>\n",
       "      <td>0.048949</td>\n",
       "      <td>123</td>\n",
       "    </tr>\n",
       "    <tr>\n",
       "      <th>2</th>\n",
       "      <td>0.019909</td>\n",
       "      <td>0.000475</td>\n",
       "      <td>0.000791</td>\n",
       "      <td>0.000016</td>\n",
       "      <td>0.05</td>\n",
       "      <td>2</td>\n",
       "      <td>150</td>\n",
       "      <td>{'learning_rate': 0.05, 'max_depth': 2, 'n_est...</td>\n",
       "      <td>0.619048</td>\n",
       "      <td>0.571429</td>\n",
       "      <td>0.476190</td>\n",
       "      <td>0.558140</td>\n",
       "      <td>0.547619</td>\n",
       "      <td>0.554485</td>\n",
       "      <td>0.046143</td>\n",
       "      <td>114</td>\n",
       "    </tr>\n",
       "    <tr>\n",
       "      <th>3</th>\n",
       "      <td>0.026076</td>\n",
       "      <td>0.000718</td>\n",
       "      <td>0.000850</td>\n",
       "      <td>0.000009</td>\n",
       "      <td>0.05</td>\n",
       "      <td>2</td>\n",
       "      <td>200</td>\n",
       "      <td>{'learning_rate': 0.05, 'max_depth': 2, 'n_est...</td>\n",
       "      <td>0.642857</td>\n",
       "      <td>0.571429</td>\n",
       "      <td>0.476190</td>\n",
       "      <td>0.534884</td>\n",
       "      <td>0.523810</td>\n",
       "      <td>0.549834</td>\n",
       "      <td>0.055577</td>\n",
       "      <td>119</td>\n",
       "    </tr>\n",
       "    <tr>\n",
       "      <th>4</th>\n",
       "      <td>0.031943</td>\n",
       "      <td>0.000229</td>\n",
       "      <td>0.000914</td>\n",
       "      <td>0.000007</td>\n",
       "      <td>0.05</td>\n",
       "      <td>2</td>\n",
       "      <td>250</td>\n",
       "      <td>{'learning_rate': 0.05, 'max_depth': 2, 'n_est...</td>\n",
       "      <td>0.666667</td>\n",
       "      <td>0.547619</td>\n",
       "      <td>0.500000</td>\n",
       "      <td>0.581395</td>\n",
       "      <td>0.523810</td>\n",
       "      <td>0.563898</td>\n",
       "      <td>0.058004</td>\n",
       "      <td>99</td>\n",
       "    </tr>\n",
       "  </tbody>\n",
       "</table>\n",
       "</div>"
      ],
      "text/plain": [
       "   mean_fit_time  std_fit_time  mean_score_time  std_score_time  \\\n",
       "0       0.010167      0.000908         0.000987        0.000114   \n",
       "1       0.014398      0.000807         0.000742        0.000039   \n",
       "2       0.019909      0.000475         0.000791        0.000016   \n",
       "3       0.026076      0.000718         0.000850        0.000009   \n",
       "4       0.031943      0.000229         0.000914        0.000007   \n",
       "\n",
       "  param_learning_rate param_max_depth param_n_estimators  \\\n",
       "0                0.05               2                 50   \n",
       "1                0.05               2                100   \n",
       "2                0.05               2                150   \n",
       "3                0.05               2                200   \n",
       "4                0.05               2                250   \n",
       "\n",
       "                                              params  split0_test_score  \\\n",
       "0  {'learning_rate': 0.05, 'max_depth': 2, 'n_est...           0.619048   \n",
       "1  {'learning_rate': 0.05, 'max_depth': 2, 'n_est...           0.595238   \n",
       "2  {'learning_rate': 0.05, 'max_depth': 2, 'n_est...           0.619048   \n",
       "3  {'learning_rate': 0.05, 'max_depth': 2, 'n_est...           0.642857   \n",
       "4  {'learning_rate': 0.05, 'max_depth': 2, 'n_est...           0.666667   \n",
       "\n",
       "   split1_test_score  split2_test_score  split3_test_score  split4_test_score  \\\n",
       "0           0.571429           0.404762           0.465116           0.500000   \n",
       "1           0.547619           0.452381           0.558140           0.571429   \n",
       "2           0.571429           0.476190           0.558140           0.547619   \n",
       "3           0.571429           0.476190           0.534884           0.523810   \n",
       "4           0.547619           0.500000           0.581395           0.523810   \n",
       "\n",
       "   mean_test_score  std_test_score  rank_test_score  \n",
       "0         0.512071        0.075938              126  \n",
       "1         0.544961        0.048949              123  \n",
       "2         0.554485        0.046143              114  \n",
       "3         0.549834        0.055577              119  \n",
       "4         0.563898        0.058004               99  "
      ]
     },
     "execution_count": 38,
     "metadata": {},
     "output_type": "execute_result"
    }
   ],
   "source": [
    "df_cv.head()"
   ]
  },
  {
   "cell_type": "code",
   "execution_count": 67,
   "metadata": {},
   "outputs": [
    {
     "data": {
      "text/plain": [
       "Index(['mean_fit_time', 'std_fit_time', 'mean_score_time', 'std_score_time',\n",
       "       'param_learning_rate', 'param_max_depth', 'param_n_estimators',\n",
       "       'param_subsample', 'params', 'split0_test_score', 'split1_test_score',\n",
       "       'split2_test_score', 'split3_test_score', 'split4_test_score',\n",
       "       'mean_test_score', 'std_test_score', 'rank_test_score'],\n",
       "      dtype='object')"
      ]
     },
     "execution_count": 67,
     "metadata": {},
     "output_type": "execute_result"
    }
   ],
   "source": [
    "df_cv.columns"
   ]
  },
  {
   "cell_type": "code",
   "execution_count": 73,
   "metadata": {
    "scrolled": true
   },
   "outputs": [
    {
     "data": {
      "text/html": [
       "<div>\n",
       "<style scoped>\n",
       "    .dataframe tbody tr th:only-of-type {\n",
       "        vertical-align: middle;\n",
       "    }\n",
       "\n",
       "    .dataframe tbody tr th {\n",
       "        vertical-align: top;\n",
       "    }\n",
       "\n",
       "    .dataframe thead th {\n",
       "        text-align: right;\n",
       "    }\n",
       "</style>\n",
       "<table border=\"1\" class=\"dataframe\">\n",
       "  <thead>\n",
       "    <tr style=\"text-align: right;\">\n",
       "      <th></th>\n",
       "      <th>param_max_depth</th>\n",
       "      <th>param_learning_rate</th>\n",
       "      <th>param_n_estimators</th>\n",
       "      <th>param_subsample</th>\n",
       "      <th>mean_test_score</th>\n",
       "    </tr>\n",
       "  </thead>\n",
       "  <tbody>\n",
       "    <tr>\n",
       "      <th>1198</th>\n",
       "      <td>3</td>\n",
       "      <td>0.3</td>\n",
       "      <td>50</td>\n",
       "      <td>0.9</td>\n",
       "      <td>0.634848</td>\n",
       "    </tr>\n",
       "    <tr>\n",
       "      <th>914</th>\n",
       "      <td>3</td>\n",
       "      <td>0.2</td>\n",
       "      <td>50</td>\n",
       "      <td>0.5</td>\n",
       "      <td>0.625758</td>\n",
       "    </tr>\n",
       "    <tr>\n",
       "      <th>558</th>\n",
       "      <td>5</td>\n",
       "      <td>0.01</td>\n",
       "      <td>350</td>\n",
       "      <td>0.9</td>\n",
       "      <td>0.625541</td>\n",
       "    </tr>\n",
       "    <tr>\n",
       "      <th>1220</th>\n",
       "      <td>3</td>\n",
       "      <td>0.3</td>\n",
       "      <td>200</td>\n",
       "      <td>0.1</td>\n",
       "      <td>0.625325</td>\n",
       "    </tr>\n",
       "    <tr>\n",
       "      <th>1210</th>\n",
       "      <td>3</td>\n",
       "      <td>0.3</td>\n",
       "      <td>150</td>\n",
       "      <td>0.1</td>\n",
       "      <td>0.625108</td>\n",
       "    </tr>\n",
       "    <tr>\n",
       "      <th>612</th>\n",
       "      <td>2</td>\n",
       "      <td>0.1</td>\n",
       "      <td>300</td>\n",
       "      <td>0.3</td>\n",
       "      <td>0.620996</td>\n",
       "    </tr>\n",
       "    <tr>\n",
       "      <th>918</th>\n",
       "      <td>3</td>\n",
       "      <td>0.2</td>\n",
       "      <td>50</td>\n",
       "      <td>0.9</td>\n",
       "      <td>0.620996</td>\n",
       "    </tr>\n",
       "    <tr>\n",
       "      <th>730</th>\n",
       "      <td>4</td>\n",
       "      <td>0.1</td>\n",
       "      <td>200</td>\n",
       "      <td>0.1</td>\n",
       "      <td>0.620996</td>\n",
       "    </tr>\n",
       "    <tr>\n",
       "      <th>778</th>\n",
       "      <td>5</td>\n",
       "      <td>0.1</td>\n",
       "      <td>50</td>\n",
       "      <td>0.9</td>\n",
       "      <td>0.620779</td>\n",
       "    </tr>\n",
       "    <tr>\n",
       "      <th>992</th>\n",
       "      <td>4</td>\n",
       "      <td>0.2</td>\n",
       "      <td>100</td>\n",
       "      <td>0.3</td>\n",
       "      <td>0.620779</td>\n",
       "    </tr>\n",
       "  </tbody>\n",
       "</table>\n",
       "</div>"
      ],
      "text/plain": [
       "     param_max_depth param_learning_rate param_n_estimators param_subsample  \\\n",
       "1198               3                 0.3                 50             0.9   \n",
       "914                3                 0.2                 50             0.5   \n",
       "558                5                0.01                350             0.9   \n",
       "1220               3                 0.3                200             0.1   \n",
       "1210               3                 0.3                150             0.1   \n",
       "612                2                 0.1                300             0.3   \n",
       "918                3                 0.2                 50             0.9   \n",
       "730                4                 0.1                200             0.1   \n",
       "778                5                 0.1                 50             0.9   \n",
       "992                4                 0.2                100             0.3   \n",
       "\n",
       "      mean_test_score  \n",
       "1198         0.634848  \n",
       "914          0.625758  \n",
       "558          0.625541  \n",
       "1220         0.625325  \n",
       "1210         0.625108  \n",
       "612          0.620996  \n",
       "918          0.620996  \n",
       "730          0.620996  \n",
       "778          0.620779  \n",
       "992          0.620779  "
      ]
     },
     "execution_count": 73,
     "metadata": {},
     "output_type": "execute_result"
    }
   ],
   "source": [
    "# keep the best 10 parameter settings from GridSearchCV\n",
    "\n",
    "df_cv[['param_max_depth', 'param_learning_rate', 'param_n_estimators', 'param_subsample', 'mean_test_score']].sort_values(by=['mean_test_score'], ascending=False)[:10]"
   ]
  },
  {
   "cell_type": "code",
   "execution_count": 70,
   "metadata": {},
   "outputs": [
    {
     "data": {
      "text/plain": [
       "0.63484848484848488"
      ]
     },
     "execution_count": 70,
     "metadata": {},
     "output_type": "execute_result"
    }
   ],
   "source": [
    "grid_fit.best_score_"
   ]
  },
  {
   "cell_type": "code",
   "execution_count": 71,
   "metadata": {
    "scrolled": true
   },
   "outputs": [
    {
     "data": {
      "text/plain": [
       "{'learning_rate': 0.3,\n",
       " 'max_depth': 3,\n",
       " 'n_estimators': 50,\n",
       " 'subsample': 0.90000000000000002}"
      ]
     },
     "execution_count": 71,
     "metadata": {},
     "output_type": "execute_result"
    }
   ],
   "source": [
    "grid_fit.best_params_"
   ]
  },
  {
   "cell_type": "code",
   "execution_count": 25,
   "metadata": {},
   "outputs": [
    {
     "name": "stdout",
     "output_type": "stream",
     "text": [
      "Accuracy: 81.17%\n",
      "Recall: 70.18%\n",
      "Precision: 76.92%\n",
      "F1: 73.39%\n"
     ]
    }
   ],
   "source": [
    "from sklearn.metrics import accuracy_score\n",
    "from sklearn.metrics import recall_score\n",
    "from sklearn.metrics import precision_score\n",
    "from sklearn.metrics import f1_score\n",
    "from sklearn.metrics import confusion_matrix\n",
    "\n",
    "y_pred = best_clf.predict(X_test)\n",
    "\n",
    "accuracy = accuracy_score(y_test, y_pred)\n",
    "recall = recall_score(y_test, y_pred)\n",
    "precision = precision_score(y_test, y_pred)\n",
    "f1 = f1_score(y_test, y_pred)\n",
    "\n",
    "print(\"Accuracy: %.2f%%\" % (accuracy * 100.0))\n",
    "print(\"Recall: %.2f%%\" % (recall * 100.0))\n",
    "print(\"Precision: %.2f%%\" % (precision * 100.0))\n",
    "print(\"F1: %.2f%%\" % (f1 * 100.0))\n"
   ]
  },
  {
   "cell_type": "code",
   "execution_count": 28,
   "metadata": {},
   "outputs": [
    {
     "data": {
      "text/plain": [
       "array([[85, 12],\n",
       "       [17, 40]])"
      ]
     },
     "execution_count": 28,
     "metadata": {},
     "output_type": "execute_result"
    }
   ],
   "source": [
    "confusion_matrix(y_test, y_pred)"
   ]
  },
  {
   "cell_type": "code",
   "execution_count": null,
   "metadata": {},
   "outputs": [],
   "source": []
  },
  {
   "cell_type": "code",
   "execution_count": null,
   "metadata": {},
   "outputs": [],
   "source": []
  },
  {
   "cell_type": "code",
   "execution_count": null,
   "metadata": {},
   "outputs": [],
   "source": []
  },
  {
   "cell_type": "code",
   "execution_count": 7,
   "metadata": {},
   "outputs": [],
   "source": [
    "y_pred = model.predict(X_test) \n",
    "predictions = [round(value) for value in y_pred] "
   ]
  },
  {
   "cell_type": "code",
   "execution_count": 8,
   "metadata": {},
   "outputs": [
    {
     "name": "stdout",
     "output_type": "stream",
     "text": [
      "Accuracy: 81.17%\n"
     ]
    }
   ],
   "source": [
    "accuracy = accuracy_score(y_test, predictions) \n",
    "print(\"Accuracy: %.2f%%\" % (accuracy * 100.0))"
   ]
  },
  {
   "cell_type": "code",
   "execution_count": 27,
   "metadata": {},
   "outputs": [
    {
     "name": "stdout",
     "output_type": "stream",
     "text": [
      "Accuracy: 81.17%\n",
      "Recall: 70.18%\n",
      "Precision: 76.92%\n",
      "F1: 73.39%\n"
     ]
    }
   ],
   "source": [
    "from sklearn.metrics import accuracy_score\n",
    "from sklearn.metrics import recall_score\n",
    "from sklearn.metrics import precision_score\n",
    "from sklearn.metrics import f1_score\n",
    "from sklearn.metrics import confusion_matrix\n",
    "\n",
    "accuracy = accuracy_score(y_test, y_pred)\n",
    "recall = recall_score(y_test, y_pred)\n",
    "precision = precision_score(y_test, y_pred)\n",
    "f1 = f1_score(y_test, y_pred)\n",
    "\n",
    "print(\"Accuracy: %.2f%%\" % (accuracy * 100.0))\n",
    "print(\"Recall: %.2f%%\" % (recall * 100.0))\n",
    "print(\"Precision: %.2f%%\" % (precision * 100.0))\n",
    "print(\"F1: %.2f%%\" % (f1 * 100.0))\n"
   ]
  },
  {
   "cell_type": "code",
   "execution_count": null,
   "metadata": {},
   "outputs": [],
   "source": []
  },
  {
   "cell_type": "code",
   "execution_count": 9,
   "metadata": {},
   "outputs": [],
   "source": []
  },
  {
   "cell_type": "code",
   "execution_count": 10,
   "metadata": {},
   "outputs": [
    {
     "name": "stdout",
     "output_type": "stream",
     "text": [
      "Production model saved as: production_pima_model.dat\n"
     ]
    }
   ],
   "source": [
    "# save model in a local disk\n",
    "pickle.dump(model, open(\"production_pima_model.dat\", \"wb\"))\n",
    "print(\"Production model saved as: production_pima_model.dat\")"
   ]
  },
  {
   "cell_type": "code",
   "execution_count": null,
   "metadata": {},
   "outputs": [],
   "source": []
  }
 ],
 "metadata": {
  "kernelspec": {
   "display_name": "Python 3",
   "language": "python",
   "name": "python3"
  },
  "language_info": {
   "codemirror_mode": {
    "name": "ipython",
    "version": 3
   },
   "file_extension": ".py",
   "mimetype": "text/x-python",
   "name": "python",
   "nbconvert_exporter": "python",
   "pygments_lexer": "ipython3",
   "version": "3.6.8"
  }
 },
 "nbformat": 4,
 "nbformat_minor": 2
}
